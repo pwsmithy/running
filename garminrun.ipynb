{
 "cells": [
  {
   "cell_type": "markdown",
   "metadata": {},
   "source": [
    "# Garmin FIT File Parsing Example"
   ]
  },
  {
   "cell_type": "code",
   "execution_count": null,
   "metadata": {},
   "outputs": [],
   "source": [
    "import fitparse\n",
    "import datetime"
   ]
  },
  {
   "cell_type": "code",
   "execution_count": null,
   "metadata": {},
   "outputs": [],
   "source": [
    "fitfile = fitparse.FitFile(\"/Users/pwsmithy/Desktop/5826891717_ACTIVITY.fit\")\n",
    "\n",
    "time = list()\n",
    "heart_rate = list()\n",
    "speed = list()\n",
    "\n",
    "for record in fitfile.get_messages(\"record\"):\n",
    "\n",
    "    # Records can contain multiple pieces of data (ex: timestamp, latitude, longitude, etc)\n",
    "    for data in record:\n",
    "        if data.name == \"timestamp\":\n",
    "          \n",
    "            time.append((data.value-datetime.datetime(1970,1,1)).total_seconds())\n",
    "            \n",
    "            \n",
    "        if data.name == \"heart_rate\":\n",
    "            heart_rate.append(data.value)\n",
    "        if data.name == \"speed\":\n",
    "            speed.append(data.value)\n",
    "        # Print the name and value of the data (and the units if it has any)\n",
    "        if data.units:\n",
    "            print(\" * {}: {} ({})\".format(data.name, data.value, data.units))\n",
    "        else:\n",
    "            print(\" * {}: {}\".format(data.name, data.value))\n",
    "\n",
    "    print(\"---\")"
   ]
  },
  {
   "cell_type": "code",
   "execution_count": null,
   "metadata": {},
   "outputs": [],
   "source": [
    "import numpy as np\n",
    "import matplotlib.pyplot as plt\n",
    "\n",
    "plt.scatter(speed, heart_rate)\n",
    "plt.xlabel(\"speed (m/s)\")\n",
    "plt.xlim((2, 4.4))\n",
    "plt.show()"
   ]
  },
  {
   "cell_type": "code",
   "execution_count": null,
   "metadata": {},
   "outputs": [],
   "source": []
  }
 ],
 "metadata": {
  "kernelspec": {
   "display_name": "Python 3",
   "language": "python",
   "name": "python3"
  },
  "language_info": {
   "codemirror_mode": {
    "name": "ipython",
    "version": 3
   },
   "file_extension": ".py",
   "mimetype": "text/x-python",
   "name": "python",
   "nbconvert_exporter": "python",
   "pygments_lexer": "ipython3",
   "version": "3.7.5"
  }
 },
 "nbformat": 4,
 "nbformat_minor": 4
}
